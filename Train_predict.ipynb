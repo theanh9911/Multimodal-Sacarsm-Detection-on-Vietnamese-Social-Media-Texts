{
 "cells": [
  {
   "cell_type": "code",
   "execution_count": 1,
   "metadata": {
    "colab": {
     "base_uri": "https://localhost:8080/"
    },
    "executionInfo": {
     "elapsed": 2542,
     "status": "ok",
     "timestamp": 1729969478920,
     "user": {
      "displayName": "Thế Anh",
      "userId": "13981405809191830392"
     },
     "user_tz": -420
    },
    "id": "BGPLespDo5Ip",
    "outputId": "9c21862e-14e4-4be7-9ccb-34348a43d33f"
   },
   "outputs": [
    {
     "name": "stdout",
     "output_type": "stream",
     "text": [
      "Drive already mounted at /content/drive; to attempt to forcibly remount, call drive.mount(\"/content/drive\", force_remount=True).\n"
     ]
    }
   ],
   "source": [
    "from google.colab import drive\n",
    "drive.mount('/content/drive')"
   ]
  },
  {
   "cell_type": "markdown",
   "metadata": {},
   "source": [
    "# Load dữ liệu"
   ]
  },
  {
   "cell_type": "code",
   "execution_count": 1,
   "metadata": {
    "executionInfo": {
     "elapsed": 356,
     "status": "ok",
     "timestamp": 1729969603882,
     "user": {
      "displayName": "Thế Anh",
      "userId": "13981405809191830392"
     },
     "user_tz": -420
    },
    "id": "YqAGZCFApJld"
   },
   "outputs": [],
   "source": [
    "import pandas as pd\n",
    "\n",
    "folder = r'C:\\Users\\The Anh\\OneDrive\\Máy tính\\Project\\v4_0.42\\\\'"
   ]
  },
  {
   "cell_type": "code",
   "execution_count": 5,
   "metadata": {
    "executionInfo": {
     "elapsed": 5653,
     "status": "ok",
     "timestamp": 1729969609890,
     "user": {
      "displayName": "Thế Anh",
      "userId": "13981405809191830392"
     },
     "user_tz": -420
    },
    "id": "Y_fPRU2mo1wy"
   },
   "outputs": [],
   "source": [
    "df_text_train = pd.read_csv(folder+'features_text_in_img_train_v2.csv')\n",
    "df_text_img_train = pd.read_csv(folder+'features_text_train_v2.csv')\n",
    "df_img_train = pd.read_csv(folder+'image_features.csv')"
   ]
  },
  {
   "cell_type": "code",
   "execution_count": 62,
   "metadata": {
    "executionInfo": {
     "elapsed": 1056,
     "status": "ok",
     "timestamp": 1729969610944,
     "user": {
      "displayName": "Thế Anh",
      "userId": "13981405809191830392"
     },
     "user_tz": -420
    },
    "id": "I2DaFGCklD8Q"
   },
   "outputs": [],
   "source": [
    "df_text_img_test= pd.read_csv(folder+'features_text_prtest.csv')\n",
    "df_text_test = pd.read_csv(folder+'features_text_in_img_prtest.csv')\n",
    "df_img_test = pd.read_csv(folder+'features_img_prtest.csv')"
   ]
  },
  {
   "cell_type": "code",
   "execution_count": 6,
   "metadata": {},
   "outputs": [],
   "source": [
    "df_train = pd.read_excel(r\"C:\\Users\\The Anh\\OneDrive\\Máy tính\\Project\\Data\\file_text_in_image.xlsx\")"
   ]
  },
  {
   "cell_type": "code",
   "execution_count": 3,
   "metadata": {
    "executionInfo": {
     "elapsed": 534,
     "status": "ok",
     "timestamp": 1729969613814,
     "user": {
      "displayName": "Thế Anh",
      "userId": "13981405809191830392"
     },
     "user_tz": -420
    },
    "id": "--QneEW-o1wz"
   },
   "outputs": [],
   "source": [
    "import ast\n",
    "\n",
    "def string_to_tensor_array(string_data):\n",
    "    # Chuyển đổi chuỗi thành mảng NumPy\n",
    "    array_data = ast.literal_eval(string_data)\n",
    "    # Chuyển đổi mảng NumPy thành tensor với kiểu dữ liệu float32\n",
    "    return array_data"
   ]
  },
  {
   "cell_type": "code",
   "execution_count": 7,
   "metadata": {
    "executionInfo": {
     "elapsed": 37580,
     "status": "ok",
     "timestamp": 1729969651956,
     "user": {
      "displayName": "Thế Anh",
      "userId": "13981405809191830392"
     },
     "user_tz": -420
    },
    "id": "TU6bZJ95l-yO"
   },
   "outputs": [],
   "source": [
    "df_img_train['features'] = df_img_train['features'].apply(string_to_tensor_array)\n",
    "df_img_test['features'] = df_img_test['features'].apply(string_to_tensor_array)"
   ]
  },
  {
   "cell_type": "code",
   "execution_count": 18,
   "metadata": {},
   "outputs": [],
   "source": [
    "df_img_test['features'] = df_img_test['features'].apply(string_to_tensor_array)\n",
    "df_text_test['features'] = df_text_test['features'].apply(string_to_tensor_array)\n",
    "df_text_img_test['features'] = df_text_img_test['features'].apply(string_to_tensor_array)"
   ]
  },
  {
   "cell_type": "code",
   "execution_count": 8,
   "metadata": {
    "executionInfo": {
     "elapsed": 95659,
     "status": "ok",
     "timestamp": 1729969747613,
     "user": {
      "displayName": "Thế Anh",
      "userId": "13981405809191830392"
     },
     "user_tz": -420
    },
    "id": "rNmPNMjeo1w0"
   },
   "outputs": [],
   "source": [
    "df_text_train['features'] = df_text_train['features'].apply(string_to_tensor_array)\n",
    "df_text_img_train['features'] = df_text_img_train['features'].apply(string_to_tensor_array)\n",
    "\n",
    "df_text_test['features'] = df_text_test['features'].apply(string_to_tensor_array)\n",
    "df_text_img_test['features'] = df_text_img_test['features'].apply(string_to_tensor_array)"
   ]
  },
  {
   "cell_type": "code",
   "execution_count": 11,
   "metadata": {
    "executionInfo": {
     "elapsed": 2637,
     "status": "ok",
     "timestamp": 1729969750247,
     "user": {
      "displayName": "Thế Anh",
      "userId": "13981405809191830392"
     },
     "user_tz": -420
    },
    "id": "56enq0R1o1w0"
   },
   "outputs": [],
   "source": [
    "import torch\n",
    "import torch.nn as nn\n",
    "import torch.nn.functional as F\n",
    "import numpy as np\n",
    "from sklearn.metrics import f1_score\n",
    "import random\n",
    "from torch.utils.data import Dataset, DataLoader"
   ]
  },
  {
   "cell_type": "markdown",
   "metadata": {
    "id": "Aersd0ldo1w1"
   },
   "source": [
    "# Tạo dataset"
   ]
  },
  {
   "cell_type": "code",
   "execution_count": 7,
   "metadata": {
    "executionInfo": {
     "elapsed": 2,
     "status": "ok",
     "timestamp": 1729969750247,
     "user": {
      "displayName": "Thế Anh",
      "userId": "13981405809191830392"
     },
     "user_tz": -420
    },
    "id": "NaICk47Ao1w2"
   },
   "outputs": [],
   "source": [
    "class SarcasmDataset(Dataset):\n",
    "    def __init__(self, df):\n",
    "        self.text_feats = df['text_feats'].tolist()\n",
    "        self.img_feats = df['img_feats'].tolist()\n",
    "        self.ocr_feats = df['ocr_feats'].tolist()\n",
    "        self.labels = df['label'].tolist()\n",
    "\n",
    "    def __len__(self):\n",
    "        return len(self.labels)\n",
    "\n",
    "    def __getitem__(self, idx):\n",
    "        text_feats = torch.tensor(self.text_feats[idx], dtype=torch.float32)\n",
    "        img_feats = torch.tensor(self.img_feats[idx], dtype=torch.float32)\n",
    "        ocr_feats = torch.tensor(self.ocr_feats[idx], dtype=torch.float32)\n",
    "        label = torch.tensor(self.labels[idx], dtype=torch.long)\n",
    "\n",
    "        return {\n",
    "            'text_feats': text_feats,\n",
    "            'img_feats': img_feats,\n",
    "            'ocr_feats': ocr_feats,\n",
    "            'label': label\n",
    "        }"
   ]
  },
  {
   "cell_type": "code",
   "execution_count": 9,
   "metadata": {
    "executionInfo": {
     "elapsed": 785,
     "status": "ok",
     "timestamp": 1729969751030,
     "user": {
      "displayName": "Thế Anh",
      "userId": "13981405809191830392"
     },
     "user_tz": -420
    },
    "id": "SIg8oATMo1w2"
   },
   "outputs": [],
   "source": [
    "import json\n",
    "import pandas as pd\n",
    "\n",
    "def load_json_to_dataframe(file_path):\n",
    "    with open(file_path, 'r', encoding='utf-8') as f:\n",
    "        data = json.load(f)\n",
    "    return pd.DataFrame(data).transpose()\n",
    "\n",
    "# File paths\n",
    "train_path = r\"C:\\Users\\The Anh\\OneDrive\\Máy tính\\Project\\Data\\vimmsd-train.json\"\n",
    "\n",
    "# Load data into DataFrames\n",
    "d = load_json_to_dataframe(train_path)"
   ]
  },
  {
   "cell_type": "code",
   "execution_count": 10,
   "metadata": {
    "executionInfo": {
     "elapsed": 17,
     "status": "ok",
     "timestamp": 1729969751030,
     "user": {
      "displayName": "Thế Anh",
      "userId": "13981405809191830392"
     },
     "user_tz": -420
    },
    "id": "GGBhKm7no1w3"
   },
   "outputs": [],
   "source": [
    "df = pd.DataFrame({'text_feats':df_text_train['features'].tolist(),'img_feats':df_img_train['features'].tolist(),'ocr_feats':df_text_img_train['features'].tolist(),'label':d['label'].tolist()})"
   ]
  },
  {
   "cell_type": "code",
   "execution_count": 11,
   "metadata": {
    "executionInfo": {
     "elapsed": 17,
     "status": "ok",
     "timestamp": 1729969751031,
     "user": {
      "displayName": "Thế Anh",
      "userId": "13981405809191830392"
     },
     "user_tz": -420
    },
    "id": "vxg4pA_Uo1w3"
   },
   "outputs": [],
   "source": [
    "label_map = {'text-sarcasm':0,'image-sarcasm': 1, 'multi-sarcasm':2, 'not-sarcasm':3}\n",
    "df['label']=df['label'].map(label_map)"
   ]
  },
  {
   "cell_type": "code",
   "execution_count": 12,
   "metadata": {
    "colab": {
     "base_uri": "https://localhost:8080/",
     "height": 206
    },
    "executionInfo": {
     "elapsed": 17,
     "status": "ok",
     "timestamp": 1729969751031,
     "user": {
      "displayName": "Thế Anh",
      "userId": "13981405809191830392"
     },
     "user_tz": -420
    },
    "id": "QDg7V3lwvX1M",
    "outputId": "434204e8-3fc4-47bf-c406-2fe65849f580"
   },
   "outputs": [
    {
     "data": {
      "text/html": [
       "<div>\n",
       "<style scoped>\n",
       "    .dataframe tbody tr th:only-of-type {\n",
       "        vertical-align: middle;\n",
       "    }\n",
       "\n",
       "    .dataframe tbody tr th {\n",
       "        vertical-align: top;\n",
       "    }\n",
       "\n",
       "    .dataframe thead th {\n",
       "        text-align: right;\n",
       "    }\n",
       "</style>\n",
       "<table border=\"1\" class=\"dataframe\">\n",
       "  <thead>\n",
       "    <tr style=\"text-align: right;\">\n",
       "      <th></th>\n",
       "      <th>text_feats</th>\n",
       "      <th>img_feats</th>\n",
       "      <th>ocr_feats</th>\n",
       "      <th>label</th>\n",
       "    </tr>\n",
       "  </thead>\n",
       "  <tbody>\n",
       "    <tr>\n",
       "      <th>0</th>\n",
       "      <td>[-0.0707225501537323, 0.6053339838981628, -0.3...</td>\n",
       "      <td>[-0.3173622190952301, 0.21320968866348267, 0.1...</td>\n",
       "      <td>[-0.01944945938885212, 0.2595173716545105, -0....</td>\n",
       "      <td>2</td>\n",
       "    </tr>\n",
       "    <tr>\n",
       "      <th>1</th>\n",
       "      <td>[0.01768472231924534, 0.17569275200366974, -0....</td>\n",
       "      <td>[0.16594907641410828, -0.09616951644420624, -0...</td>\n",
       "      <td>[0.0899106115102768, 0.3913036584854126, -0.05...</td>\n",
       "      <td>3</td>\n",
       "    </tr>\n",
       "    <tr>\n",
       "      <th>2</th>\n",
       "      <td>[-0.0707225501537323, 0.6053339838981628, -0.3...</td>\n",
       "      <td>[-0.6251385807991028, -0.16424448788166046, 0....</td>\n",
       "      <td>[0.002900111023336649, 0.07815682142972946, -0...</td>\n",
       "      <td>2</td>\n",
       "    </tr>\n",
       "    <tr>\n",
       "      <th>3</th>\n",
       "      <td>[0.05841079726815224, 0.10343050211668015, -0....</td>\n",
       "      <td>[-0.2023581564426422, 0.20617759227752686, 0.2...</td>\n",
       "      <td>[0.05580971762537956, 0.17241831123828888, 0.0...</td>\n",
       "      <td>3</td>\n",
       "    </tr>\n",
       "    <tr>\n",
       "      <th>4</th>\n",
       "      <td>[-0.0707225501537323, 0.6053339838981628, -0.3...</td>\n",
       "      <td>[-0.6315056085586548, 0.3270147442817688, -0.1...</td>\n",
       "      <td>[-0.0949886366724968, 0.05473310127854347, -0....</td>\n",
       "      <td>2</td>\n",
       "    </tr>\n",
       "  </tbody>\n",
       "</table>\n",
       "</div>"
      ],
      "text/plain": [
       "                                          text_feats  \\\n",
       "0  [-0.0707225501537323, 0.6053339838981628, -0.3...   \n",
       "1  [0.01768472231924534, 0.17569275200366974, -0....   \n",
       "2  [-0.0707225501537323, 0.6053339838981628, -0.3...   \n",
       "3  [0.05841079726815224, 0.10343050211668015, -0....   \n",
       "4  [-0.0707225501537323, 0.6053339838981628, -0.3...   \n",
       "\n",
       "                                           img_feats  \\\n",
       "0  [-0.3173622190952301, 0.21320968866348267, 0.1...   \n",
       "1  [0.16594907641410828, -0.09616951644420624, -0...   \n",
       "2  [-0.6251385807991028, -0.16424448788166046, 0....   \n",
       "3  [-0.2023581564426422, 0.20617759227752686, 0.2...   \n",
       "4  [-0.6315056085586548, 0.3270147442817688, -0.1...   \n",
       "\n",
       "                                           ocr_feats  label  \n",
       "0  [-0.01944945938885212, 0.2595173716545105, -0....      2  \n",
       "1  [0.0899106115102768, 0.3913036584854126, -0.05...      3  \n",
       "2  [0.002900111023336649, 0.07815682142972946, -0...      2  \n",
       "3  [0.05580971762537956, 0.17241831123828888, 0.0...      3  \n",
       "4  [-0.0949886366724968, 0.05473310127854347, -0....      2  "
      ]
     },
     "execution_count": 12,
     "metadata": {},
     "output_type": "execute_result"
    }
   ],
   "source": [
    "df.head()"
   ]
  },
  {
   "cell_type": "code",
   "execution_count": null,
   "metadata": {
    "colab": {
     "base_uri": "https://localhost:8080/",
     "height": 307
    },
    "executionInfo": {
     "elapsed": 23051,
     "status": "ok",
     "timestamp": 1729971294197,
     "user": {
      "displayName": "Thế Anh",
      "userId": "13981405809191830392"
     },
     "user_tz": -420
    },
    "id": "5k40sz4Z9d6x",
    "outputId": "8e98bcf6-4074-42e8-828a-fdacd6df290f"
   },
   "outputs": [],
   "source": [
    "df.groupby('label').describe()"
   ]
  },
  {
   "cell_type": "code",
   "execution_count": 14,
   "metadata": {
    "executionInfo": {
     "elapsed": 509,
     "status": "ok",
     "timestamp": 1729969766548,
     "user": {
      "displayName": "Thế Anh",
      "userId": "13981405809191830392"
     },
     "user_tz": -420
    },
    "id": "5i93PHRk--yM"
   },
   "outputs": [],
   "source": [
    "df_0 = df[df['label']==0]\n",
    "df_1 = df[df['label']==1]\n",
    "df_2 = df[df['label']==2]\n",
    "df_3 = df[df['label']==3]"
   ]
  },
  {
   "cell_type": "code",
   "execution_count": 15,
   "metadata": {
    "executionInfo": {
     "elapsed": 2,
     "status": "ok",
     "timestamp": 1729969766972,
     "user": {
      "displayName": "Thế Anh",
      "userId": "13981405809191830392"
     },
     "user_tz": -420
    },
    "id": "WFwrQT96o1w3"
   },
   "outputs": [],
   "source": [
    "from sklearn.model_selection import train_test_split"
   ]
  },
  {
   "cell_type": "code",
   "execution_count": 35,
   "metadata": {
    "executionInfo": {
     "elapsed": 2,
     "status": "ok",
     "timestamp": 1729969767364,
     "user": {
      "displayName": "Thế Anh",
      "userId": "13981405809191830392"
     },
     "user_tz": -420
    },
    "id": "NszED3idALvU"
   },
   "outputs": [],
   "source": [
    "def creat_df (df_0,df_1,df_2,df_3):\n",
    "  df_temp = pd.concat([df_0,df_1.sample(len(df_0), replace=False),df_2.sample(len(df_0), replace=False),df_3.sample(len(df_0), replace=False)])\n",
    "  train, val = train_test_split(df_temp,test_size=0.2,stratify=df_temp['label'])\n",
    "  dataset = SarcasmDataset(train)\n",
    "  val_tr = SarcasmDataset(val)\n",
    "\n",
    "  train_loader = DataLoader(dataset, batch_size=16, shuffle=True)\n",
    "  val_loader = DataLoader(val_tr, batch_size=16, shuffle=False)\n",
    "  return train_loader, val_loader"
   ]
  },
  {
   "cell_type": "markdown",
   "metadata": {
    "id": "MRlu0wyMo1w4"
   },
   "source": [
    "# Mô hình"
   ]
  },
  {
   "cell_type": "code",
   "execution_count": 24,
   "metadata": {
    "executionInfo": {
     "elapsed": 2,
     "status": "ok",
     "timestamp": 1729969768391,
     "user": {
      "displayName": "Thế Anh",
      "userId": "13981405809191830392"
     },
     "user_tz": -420
    },
    "id": "V2KGjxqgo1w4"
   },
   "outputs": [],
   "source": [
    "class SarcasmDetector(nn.Module):\n",
    "    def __init__(self, text_dim, img_dim, ocr_dim, hidden_dim=128):  # Giảm hidden_dim\n",
    "        super(SarcasmDetector, self).__init__()\n",
    "\n",
    "        # Main text encoder\n",
    "        self.text_encoder = nn.Sequential(\n",
    "            nn.Linear(text_dim, hidden_dim),\n",
    "            nn.GELU(),\n",
    "            nn.Dropout(0.5),  # Tăng tỷ lệ dropout\n",
    "            nn.LayerNorm(hidden_dim)\n",
    "        )\n",
    "\n",
    "        # Image feature encoder\n",
    "        self.img_encoder = nn.Sequential(\n",
    "            nn.Linear(img_dim, hidden_dim),\n",
    "            nn.GELU(),\n",
    "            nn.Dropout(0.5),\n",
    "            nn.LayerNorm(hidden_dim)\n",
    "        )\n",
    "\n",
    "        # OCR text encoder\n",
    "        self.ocr_encoder = nn.Sequential(\n",
    "            nn.Linear(ocr_dim, hidden_dim),\n",
    "            nn.GELU(),\n",
    "            nn.Dropout(0.5),\n",
    "            nn.LayerNorm(hidden_dim)\n",
    "        )\n",
    "\n",
    "        # Cross attention\n",
    "        self.text_img_attention = nn.MultiheadAttention(embed_dim=hidden_dim, num_heads=8, dropout=0.5)\n",
    "        self.text_ocr_attention = nn.MultiheadAttention(embed_dim=hidden_dim, num_heads=8, dropout=0.5)\n",
    "\n",
    "        # Fusion layer\n",
    "        self.fusion = nn.Sequential(\n",
    "            nn.Linear(hidden_dim * 3, hidden_dim),\n",
    "            nn.ReLU(),\n",
    "            nn.Dropout(0.5),\n",
    "            nn.LayerNorm(hidden_dim)\n",
    "        )\n",
    "\n",
    "        # Task-specific heads\n",
    "        self.text_only_classifier = nn.Linear(hidden_dim, 4)\n",
    "        self.img_only_classifier = nn.Linear(hidden_dim * 2, 4)\n",
    "        self.combined_classifier = nn.Linear(hidden_dim, 4)\n",
    "\n",
    "    def forward(self, text_feats, img_feats, ocr_feats):\n",
    "      # Encode individual modalities\n",
    "      text_encoded = self.text_encoder(text_feats)  # [batch_size, hidden_dim]\n",
    "      img_encoded = self.img_encoder(img_feats)      # [batch_size, hidden_dim]\n",
    "      ocr_encoded = self.ocr_encoder(ocr_feats)      # [batch_size, hidden_dim]\n",
    "\n",
    "      # Text-image attention\n",
    "      text_img_attn, _ = self.text_img_attention(\n",
    "          text_encoded.unsqueeze(0),  # [1, batch_size, hidden_dim]\n",
    "          img_encoded.unsqueeze(0),    # [1, batch_size, hidden_dim]\n",
    "          img_encoded.unsqueeze(0)     # [1, batch_size, hidden_dim]\n",
    "      )\n",
    "\n",
    "      # Text-OCR attention\n",
    "      text_ocr_attn, _ = self.text_ocr_attention(\n",
    "          text_encoded.unsqueeze(0),   # [1, batch_size, hidden_dim]\n",
    "          ocr_encoded.unsqueeze(0),     # [1, batch_size, hidden_dim]\n",
    "          ocr_encoded.unsqueeze(0)      # [1, batch_size, hidden_dim]\n",
    "      )\n",
    "\n",
    "      # Combine features for final prediction\n",
    "      combined = self.fusion(torch.cat([\n",
    "          text_img_attn.squeeze(0),  # [batch_size, hidden_dim]\n",
    "          text_ocr_attn.squeeze(0),  # [batch_size, hidden_dim]\n",
    "          text_encoded                 # [batch_size, hidden_dim]\n",
    "      ], dim=-1))  # [batch_size, hidden_dim * 3]\n",
    "\n",
    "      # Final output\n",
    "      final_output = self.combined_classifier(combined)  # [batch_size, 4] hoặc số lớp cần dự đoán\n",
    "\n",
    "      return final_output"
   ]
  },
  {
   "cell_type": "code",
   "execution_count": 18,
   "metadata": {
    "executionInfo": {
     "elapsed": 2052,
     "status": "ok",
     "timestamp": 1729969772305,
     "user": {
      "displayName": "Thế Anh",
      "userId": "13981405809191830392"
     },
     "user_tz": -420
    },
    "id": "dJUguoXro1w4"
   },
   "outputs": [],
   "source": [
    "from __future__ import print_function\n",
    "import argparse\n",
    "import torch\n",
    "import torch.nn as nn\n",
    "import torch.nn.functional as F\n",
    "import torch.optim as optim\n",
    "from torchvision import datasets, transforms\n",
    "from torch.optim.lr_scheduler import StepLR\n",
    "from torch.cuda.amp import autocast, GradScaler"
   ]
  },
  {
   "cell_type": "code",
   "execution_count": 9,
   "metadata": {
    "executionInfo": {
     "elapsed": 2,
     "status": "ok",
     "timestamp": 1729969772306,
     "user": {
      "displayName": "Thế Anh",
      "userId": "13981405809191830392"
     },
     "user_tz": -420
    },
    "id": "eeKXI2s-o1w4"
   },
   "outputs": [],
   "source": [
    "import numpy as np\n",
    "import torch\n",
    "import torch.nn.functional as F\n",
    "from sklearn.metrics import f1_score, accuracy_score\n",
    "\n",
    "def calculate_class_weights(labels):\n",
    "    \"\"\" Tính toán trọng số cho các lớp dựa trên số lượng mẫu trong từng lớp \"\"\"\n",
    "    class_counts = np.bincount(labels)\n",
    "    total_count = len(labels)\n",
    "    class_weights = total_count / (len(class_counts) * class_counts)\n",
    "    return torch.FloatTensor(class_weights)\n",
    "\n",
    "def weighted_focal_loss(outputs, targets, weights, gamma=2.0):\n",
    "    \"\"\" Tính toán Focal Loss với trọng số \"\"\"\n",
    "    ce_loss = F.cross_entropy(outputs, targets, reduction='none', weight=weights)\n",
    "    pt = torch.exp(-ce_loss)\n",
    "    focal_loss = ((1 - pt) ** gamma * ce_loss).mean()\n",
    "    return focal_loss\n",
    "\n",
    "def evaluate_task(predictions, targets):\n",
    "    \"\"\" Đánh giá F1 macro và accuracy cho một task cụ thể \"\"\"\n",
    "    if len(predictions) == 0 or len(targets) == 0:\n",
    "        return 0.0, 0.0\n",
    "\n",
    "    f1 = f1_score(targets, predictions, average='macro')\n",
    "    accuracy = accuracy_score(targets, predictions)\n",
    "    return f1, accuracy\n",
    "\n",
    "def evaluate(model, val_loader, class_weights):\n",
    "    model.eval()\n",
    "    predictions = []\n",
    "    targets = []\n",
    "    total_loss = 0\n",
    "    num_batches = 0\n",
    "    total_correct = 0\n",
    "    total_samples = 0\n",
    "\n",
    "    with torch.no_grad():  # Không theo dõi gradient trong chế độ đánh giá\n",
    "        for batch in val_loader:\n",
    "            text_feats = batch['text_feats']\n",
    "            img_feats = batch['img_feats']\n",
    "            ocr_feats = batch['ocr_feats']\n",
    "            batch_targets = batch['label']\n",
    "\n",
    "            # Forward pass\n",
    "            outputs = model(text_feats, img_feats, ocr_feats)  # Nhận đầu ra chỉ từ một classifier\n",
    "\n",
    "            # Tính loss\n",
    "            loss = weighted_focal_loss(outputs, batch_targets, class_weights)\n",
    "            total_loss += loss.item()\n",
    "\n",
    "            # Lưu predictions và targets\n",
    "            preds = outputs.argmax(dim=1)\n",
    "            predictions.extend(preds.cpu().numpy())\n",
    "            targets.extend(batch_targets.cpu().numpy())\n",
    "\n",
    "            # Tính đúng/sai cho accuracy\n",
    "            total_correct += (preds == batch_targets).sum().item()\n",
    "            total_samples += batch_targets.size(0)\n",
    "\n",
    "            num_batches += 1\n",
    "\n",
    "    # Tính F1 macro và accuracy\n",
    "    overall_f1 = f1_score(targets, predictions, average='macro')\n",
    "    accuracy = total_correct / total_samples if total_samples > 0 else 0.0\n",
    "    avg_loss = total_loss / num_batches if num_batches > 0 else float('inf')\n",
    "\n",
    "    return {\n",
    "        'loss': avg_loss,\n",
    "        'f1_macro': overall_f1,\n",
    "        'accuracy': accuracy\n",
    "    }\n"
   ]
  },
  {
   "cell_type": "code",
   "execution_count": 20,
   "metadata": {
    "executionInfo": {
     "elapsed": 382,
     "status": "ok",
     "timestamp": 1729969779110,
     "user": {
      "displayName": "Thế Anh",
      "userId": "13981405809191830392"
     },
     "user_tz": -420
    },
    "id": "0sD8tJvQo1w5"
   },
   "outputs": [],
   "source": [
    "import numpy as np\n",
    "\n",
    "class EarlyStopping:\n",
    "    def __init__(self, patience=5, delta=0):\n",
    "        \"\"\"\n",
    "        Khởi tạo Early Stopping.\n",
    "\n",
    "        :param patience: Số epoch tối đa cho phép mà không có cải thiện\n",
    "        :param delta: Sự cải thiện tối thiểu cần thiết để tính là cải thiện\n",
    "        \"\"\"\n",
    "        self.patience = patience\n",
    "        self.delta = delta\n",
    "        self.best_score = None\n",
    "        self.early_stop = False\n",
    "        self.counter = 0\n",
    "\n",
    "    def __call__(self, score):\n",
    "        \"\"\"\n",
    "        Gọi hàm để kiểm tra cải thiện.\n",
    "\n",
    "        :param score: F1 score hiện tại\n",
    "        \"\"\"\n",
    "        if self.best_score is None:\n",
    "            self.best_score = score\n",
    "        elif score < self.best_score + self.delta:\n",
    "            self.counter += 1\n",
    "            print(f'EarlyStopping counter: {self.counter} out of {self.patience}')\n",
    "            if self.counter >= self.patience:\n",
    "                self.early_stop = True\n",
    "        else:\n",
    "            self.best_score = score\n",
    "            self.counter = 0\n"
   ]
  },
  {
   "cell_type": "code",
   "execution_count": 25,
   "metadata": {
    "colab": {
     "base_uri": "https://localhost:8080/"
    },
    "executionInfo": {
     "elapsed": 379,
     "status": "ok",
     "timestamp": 1729970906090,
     "user": {
      "displayName": "Thế Anh",
      "userId": "13981405809191830392"
     },
     "user_tz": -420
    },
    "id": "jROMeYwbo1w5",
    "outputId": "98e6b049-2816-4cd8-ae86-97c946b6b09f"
   },
   "outputs": [
    {
     "name": "stdout",
     "output_type": "stream",
     "text": [
      "SarcasmDetector(\n",
      "  (text_encoder): Sequential(\n",
      "    (0): Linear(in_features=768, out_features=256, bias=True)\n",
      "    (1): GELU(approximate='none')\n",
      "    (2): Dropout(p=0.5, inplace=False)\n",
      "    (3): LayerNorm((256,), eps=1e-05, elementwise_affine=True)\n",
      "  )\n",
      "  (img_encoder): Sequential(\n",
      "    (0): Linear(in_features=768, out_features=256, bias=True)\n",
      "    (1): GELU(approximate='none')\n",
      "    (2): Dropout(p=0.5, inplace=False)\n",
      "    (3): LayerNorm((256,), eps=1e-05, elementwise_affine=True)\n",
      "  )\n",
      "  (ocr_encoder): Sequential(\n",
      "    (0): Linear(in_features=768, out_features=256, bias=True)\n",
      "    (1): GELU(approximate='none')\n",
      "    (2): Dropout(p=0.5, inplace=False)\n",
      "    (3): LayerNorm((256,), eps=1e-05, elementwise_affine=True)\n",
      "  )\n",
      "  (text_img_attention): MultiheadAttention(\n",
      "    (out_proj): NonDynamicallyQuantizableLinear(in_features=256, out_features=256, bias=True)\n",
      "  )\n",
      "  (text_ocr_attention): MultiheadAttention(\n",
      "    (out_proj): NonDynamicallyQuantizableLinear(in_features=256, out_features=256, bias=True)\n",
      "  )\n",
      "  (fusion): Sequential(\n",
      "    (0): Linear(in_features=768, out_features=256, bias=True)\n",
      "    (1): ReLU()\n",
      "    (2): Dropout(p=0.5, inplace=False)\n",
      "    (3): LayerNorm((256,), eps=1e-05, elementwise_affine=True)\n",
      "  )\n",
      "  (text_only_classifier): Linear(in_features=256, out_features=4, bias=True)\n",
      "  (img_only_classifier): Linear(in_features=512, out_features=4, bias=True)\n",
      "  (combined_classifier): Linear(in_features=256, out_features=4, bias=True)\n",
      ")\n"
     ]
    }
   ],
   "source": [
    "# Khởi tạo mô hình với các chiều đặc trưng của text, image, và OCR\n",
    "text_dim = 768  # ví dụ chiều của đặc trưng văn bản sau BERT\n",
    "img_dim = 768  # Kích thước đặc trưng ảnh sau ViT\n",
    "ocr_dim = 768  # Ví dụ chiều của đặc trưng OCR, giả định giống với ảnh\n",
    "hidden_dim = 256  # Kích thước ẩn\n",
    "\n",
    "# Khởi tạo mô hình\n",
    "model = SarcasmDetector(\n",
    "    text_dim=text_dim,\n",
    "    img_dim=img_dim,\n",
    "    ocr_dim=ocr_dim,\n",
    "    hidden_dim=hidden_dim\n",
    ")\n",
    "\n",
    "# Kiểm tra cấu trúc của mô hình\n",
    "print(model)\n"
   ]
  },
  {
   "cell_type": "markdown",
   "metadata": {},
   "source": [
    "# Train"
   ]
  },
  {
   "cell_type": "code",
   "execution_count": 22,
   "metadata": {
    "collapsed": true,
    "executionInfo": {
     "elapsed": 3,
     "status": "ok",
     "timestamp": 1729971318048,
     "user": {
      "displayName": "Thế Anh",
      "userId": "13981405809191830392"
     },
     "user_tz": -420
    },
    "id": "o4zA-iCfo1w5"
   },
   "outputs": [],
   "source": [
    "class_weights=torch.tensor([1.0]*4)"
   ]
  },
  {
   "cell_type": "code",
   "execution_count": 23,
   "metadata": {
    "executionInfo": {
     "elapsed": 37,
     "status": "aborted",
     "timestamp": 1729969479341,
     "user": {
      "displayName": "Thế Anh",
      "userId": "13981405809191830392"
     },
     "user_tz": -420
    },
    "id": "f_Qcpm_Ao1w5"
   },
   "outputs": [],
   "source": [
    "import os\n",
    "def train_model(model, optimizer, num_epochs, class_weights):\n",
    "    model.train()  # Đặt mô hình vào chế độ huấn luyện\n",
    "    total_loss = 0.0\n",
    "\n",
    "    for epoch in range(num_epochs):\n",
    "        count = 0\n",
    "        train_loader, val_loader = creat_df (df_0,df_1,df_2,df_3)\n",
    "        for batch in train_loader:\n",
    "            optimizer.zero_grad()  # Đặt gradient về 0\n",
    "\n",
    "            # Lấy các đầu vào từ batch\n",
    "            text_feats = batch['text_feats']\n",
    "            img_feats = batch['img_feats']\n",
    "            ocr_feats = batch['ocr_feats']\n",
    "            labels = batch['label']  # Không còn task_type nữa\n",
    "\n",
    "            # Forward pass\n",
    "            outputs = model(text_feats, img_feats, ocr_feats)\n",
    "\n",
    "            # Tính loss\n",
    "            loss = weighted_focal_loss(outputs, labels, class_weights)\n",
    "            loss.backward()  # Lan truyền gradient\n",
    "            optimizer.step()  # Cập nhật weights\n",
    "\n",
    "            total_loss += loss.item()\n",
    "\n",
    "        # Tính trung bình loss cho mỗi epoch\n",
    "        avg_loss = total_loss / len(train_loader)\n",
    "        print(f'Epoch [{epoch + 1}/{num_epochs}], Average Loss: {avg_loss:.4f}')\n",
    "\n",
    "        # Đánh giá mô hình trên tập validation\n",
    "        eval_results = evaluate(model, val_loader, class_weights)\n",
    "        print(f'Validation Loss: {eval_results[\"loss\"]:.4f}, F1 macro: {eval_results[\"f1_macro\"]:.4f}, Accuracy: {eval_results[\"accuracy\"]}')\n",
    "\n",
    "    # Lưu mô hình sau khi huấn luyện xong\n",
    "    model_save_path = os.path.join(folder, 'model_2.pth')  # Đường dẫn để lưu mô hình\n",
    "    torch.save(model.state_dict(), model_save_path)\n",
    "    print(f'Model saved to {model_save_path}')\n",
    "\n",
    "    return avg_loss"
   ]
  },
  {
   "cell_type": "markdown",
   "metadata": {
    "id": "nKjzABYNN2i2"
   },
   "source": [
    "# Train"
   ]
  },
  {
   "cell_type": "code",
   "execution_count": null,
   "metadata": {
    "colab": {
     "base_uri": "https://localhost:8080/"
    },
    "collapsed": true,
    "executionInfo": {
     "elapsed": 91820,
     "status": "ok",
     "timestamp": 1729970419828,
     "user": {
      "displayName": "Thế Anh",
      "userId": "13981405809191830392"
     },
     "user_tz": -420
    },
    "id": "MscRa5hqo1w6",
    "outputId": "adbcb1bf-f1e7-4617-bd66-46b188ce97c5"
   },
   "outputs": [
    {
     "name": "stdout",
     "output_type": "stream",
     "text": [
      "Epoch [1/50], Average Loss: 0.6168\n",
      "Validation Loss: 0.1247, F1 macro: 0.8326, Accuracy: 0.8387096774193549\n",
      "Epoch [2/50], Average Loss: 0.7583\n",
      "Validation Loss: 0.1545, F1 macro: 0.9042, Accuracy: 0.9032258064516129\n",
      "Epoch [3/50], Average Loss: 0.9165\n",
      "Validation Loss: 0.1251, F1 macro: 0.9039, Accuracy: 0.9032258064516129\n",
      "Epoch [4/50], Average Loss: 1.0578\n",
      "Validation Loss: 0.1454, F1 macro: 0.8517, Accuracy: 0.8548387096774194\n",
      "Epoch [5/50], Average Loss: 1.2356\n",
      "Validation Loss: 0.1528, F1 macro: 0.9024, Accuracy: 0.9032258064516129\n",
      "Epoch [6/50], Average Loss: 1.3849\n",
      "Validation Loss: 0.2054, F1 macro: 0.7697, Accuracy: 0.7903225806451613\n",
      "Epoch [7/50], Average Loss: 1.5393\n",
      "Validation Loss: 0.1943, F1 macro: 0.7670, Accuracy: 0.7741935483870968\n",
      "Epoch [8/50], Average Loss: 1.6830\n",
      "Validation Loss: 0.1467, F1 macro: 0.8363, Accuracy: 0.8387096774193549\n",
      "Epoch [9/50], Average Loss: 1.8272\n",
      "Validation Loss: 0.1291, F1 macro: 0.8842, Accuracy: 0.8870967741935484\n",
      "Epoch [10/50], Average Loss: 1.9846\n",
      "Validation Loss: 0.1568, F1 macro: 0.8562, Accuracy: 0.8548387096774194\n",
      "Epoch [11/50], Average Loss: 2.1462\n",
      "Validation Loss: 0.1292, F1 macro: 0.8348, Accuracy: 0.8387096774193549\n",
      "Epoch [12/50], Average Loss: 2.3287\n",
      "Validation Loss: 0.1475, F1 macro: 0.8468, Accuracy: 0.8548387096774194\n",
      "Epoch [13/50], Average Loss: 2.4846\n",
      "Validation Loss: 0.2406, F1 macro: 0.7841, Accuracy: 0.7903225806451613\n",
      "Epoch [14/50], Average Loss: 2.6427\n",
      "Validation Loss: 0.1299, F1 macro: 0.8538, Accuracy: 0.8548387096774194\n",
      "Epoch [15/50], Average Loss: 2.7997\n",
      "Validation Loss: 0.1351, F1 macro: 0.9178, Accuracy: 0.9193548387096774\n",
      "Epoch [16/50], Average Loss: 2.9500\n",
      "Validation Loss: 0.1291, F1 macro: 0.8698, Accuracy: 0.8709677419354839\n",
      "Epoch [17/50], Average Loss: 3.0921\n",
      "Validation Loss: 0.1542, F1 macro: 0.8547, Accuracy: 0.8548387096774194\n",
      "Epoch [18/50], Average Loss: 3.2306\n",
      "Validation Loss: 0.1287, F1 macro: 0.8616, Accuracy: 0.8709677419354839\n",
      "Epoch [19/50], Average Loss: 3.3684\n",
      "Validation Loss: 0.1901, F1 macro: 0.8506, Accuracy: 0.8548387096774194\n",
      "Epoch [20/50], Average Loss: 3.5137\n",
      "Validation Loss: 0.1513, F1 macro: 0.8553, Accuracy: 0.8548387096774194\n",
      "Epoch [21/50], Average Loss: 3.6395\n",
      "Validation Loss: 0.1164, F1 macro: 0.8527, Accuracy: 0.8548387096774194\n",
      "Epoch [22/50], Average Loss: 3.7662\n",
      "Validation Loss: 0.1810, F1 macro: 0.7738, Accuracy: 0.7741935483870968\n",
      "Epoch [23/50], Average Loss: 3.8979\n",
      "Validation Loss: 0.1156, F1 macro: 0.9164, Accuracy: 0.9193548387096774\n",
      "Epoch [24/50], Average Loss: 4.0349\n",
      "Validation Loss: 0.1071, F1 macro: 0.8844, Accuracy: 0.8870967741935484\n",
      "Epoch [25/50], Average Loss: 4.1571\n",
      "Validation Loss: 0.1220, F1 macro: 0.8661, Accuracy: 0.8709677419354839\n",
      "Epoch [26/50], Average Loss: 4.2884\n",
      "Validation Loss: 0.2042, F1 macro: 0.7701, Accuracy: 0.7741935483870968\n",
      "Epoch [27/50], Average Loss: 4.4456\n",
      "Validation Loss: 0.0959, F1 macro: 0.9338, Accuracy: 0.9354838709677419\n",
      "Epoch [28/50], Average Loss: 4.5712\n",
      "Validation Loss: 0.1352, F1 macro: 0.7992, Accuracy: 0.8064516129032258\n",
      "Epoch [29/50], Average Loss: 4.7135\n",
      "Validation Loss: 0.1281, F1 macro: 0.8852, Accuracy: 0.8870967741935484\n",
      "Epoch [30/50], Average Loss: 4.8486\n",
      "Validation Loss: 0.1191, F1 macro: 0.8301, Accuracy: 0.8387096774193549\n",
      "Epoch [31/50], Average Loss: 4.9991\n",
      "Validation Loss: 0.1284, F1 macro: 0.9010, Accuracy: 0.9032258064516129\n",
      "Epoch [32/50], Average Loss: 5.1455\n",
      "Validation Loss: 0.1621, F1 macro: 0.8362, Accuracy: 0.8387096774193549\n",
      "Epoch [33/50], Average Loss: 5.2734\n",
      "Validation Loss: 0.1176, F1 macro: 0.9006, Accuracy: 0.9032258064516129\n",
      "Epoch [34/50], Average Loss: 5.4192\n",
      "Validation Loss: 0.0940, F1 macro: 0.9514, Accuracy: 0.9516129032258065\n",
      "Epoch [35/50], Average Loss: 5.5603\n",
      "Validation Loss: 0.1658, F1 macro: 0.8333, Accuracy: 0.8387096774193549\n",
      "Epoch [36/50], Average Loss: 5.6990\n",
      "Validation Loss: 0.1045, F1 macro: 0.9194, Accuracy: 0.9193548387096774\n",
      "Epoch [37/50], Average Loss: 5.8286\n",
      "Validation Loss: 0.1362, F1 macro: 0.8837, Accuracy: 0.8870967741935484\n",
      "Epoch [38/50], Average Loss: 5.9656\n",
      "Validation Loss: 0.1124, F1 macro: 0.8685, Accuracy: 0.8709677419354839\n",
      "Epoch [39/50], Average Loss: 6.1028\n",
      "Validation Loss: 0.1352, F1 macro: 0.8692, Accuracy: 0.8709677419354839\n",
      "Epoch [40/50], Average Loss: 6.2183\n",
      "Validation Loss: 0.1681, F1 macro: 0.8504, Accuracy: 0.8548387096774194\n",
      "Epoch [41/50], Average Loss: 6.3534\n",
      "Validation Loss: 0.1627, F1 macro: 0.8507, Accuracy: 0.8548387096774194\n",
      "Epoch [42/50], Average Loss: 6.4941\n",
      "Validation Loss: 0.1473, F1 macro: 0.8348, Accuracy: 0.8387096774193549\n",
      "Epoch [43/50], Average Loss: 6.6314\n",
      "Validation Loss: 0.1171, F1 macro: 0.8696, Accuracy: 0.8709677419354839\n",
      "Epoch [44/50], Average Loss: 6.7537\n",
      "Validation Loss: 0.1280, F1 macro: 0.8473, Accuracy: 0.8548387096774194\n",
      "Epoch [45/50], Average Loss: 6.8975\n",
      "Validation Loss: 0.0813, F1 macro: 0.9190, Accuracy: 0.9193548387096774\n",
      "Epoch [46/50], Average Loss: 7.0239\n",
      "Validation Loss: 0.1149, F1 macro: 0.8542, Accuracy: 0.8548387096774194\n",
      "Epoch [47/50], Average Loss: 7.1433\n",
      "Validation Loss: 0.1347, F1 macro: 0.8306, Accuracy: 0.8387096774193549\n",
      "Epoch [48/50], Average Loss: 7.2608\n",
      "Validation Loss: 0.1237, F1 macro: 0.8507, Accuracy: 0.8548387096774194\n",
      "Epoch [49/50], Average Loss: 7.4139\n",
      "Validation Loss: 0.1308, F1 macro: 0.8507, Accuracy: 0.8548387096774194\n",
      "Epoch [50/50], Average Loss: 7.5448\n",
      "Validation Loss: 0.1467, F1 macro: 0.8685, Accuracy: 0.8709677419354839\n",
      "Model saved to C:\\Users\\The Anh\\OneDrive\\Máy tính\\Project\\v4_0.42\\\\model_2.pth\n"
     ]
    }
   ],
   "source": [
    "# Khởi tạo optimizer\n",
    "optimizer = torch.optim.Adam(model.parameters(), lr=1e-5, weight_decay=1e-5)\n",
    "\n",
    "# Số lượng epoch\n",
    "num_epochs = 250  # Số lượng epoch bạn muốn huấn luyện\n",
    "# Gọi hàm train với đầy đủ tham số\n",
    "F1 = train_model(\n",
    "    model=model,\n",
    "    optimizer=optimizer,\n",
    "    num_epochs=num_epochs,\n",
    "    class_weights=class_weights)\n"
   ]
  },
  {
   "cell_type": "markdown",
   "metadata": {
    "id": "wUwy6k2Qo1w6"
   },
   "source": [
    "# Predict"
   ]
  },
  {
   "cell_type": "code",
   "execution_count": 34,
   "metadata": {},
   "outputs": [],
   "source": [
    "test_pth = r\"C:\\Users\\The Anh\\OneDrive\\Máy tính\\Project\\Data\\vimmsd-public-test.json\"\n",
    "t = load_json_to_dataframe(test_pth)"
   ]
  },
  {
   "cell_type": "code",
   "execution_count": 63,
   "metadata": {
    "executionInfo": {
     "elapsed": 526,
     "status": "ok",
     "timestamp": 1729970215001,
     "user": {
      "displayName": "Thế Anh",
      "userId": "13981405809191830392"
     },
     "user_tz": -420
    },
    "id": "oFiPPOp7o1w6"
   },
   "outputs": [],
   "source": [
    "# File paths\n",
    "test_pth = r\"C:\\Users\\The Anh\\OneDrive\\Máy tính\\Project\\Data\\vimmsd-private-test.json\"\n",
    "\n",
    "# Load data into DataFrames\n",
    "t = load_json_to_dataframe(test_pth)"
   ]
  },
  {
   "cell_type": "code",
   "execution_count": 64,
   "metadata": {
    "executionInfo": {
     "elapsed": 20,
     "status": "ok",
     "timestamp": 1729970215491,
     "user": {
      "displayName": "Thế Anh",
      "userId": "13981405809191830392"
     },
     "user_tz": -420
    },
    "id": "I0wXcGC2o1w6"
   },
   "outputs": [],
   "source": [
    "df_test = pd.DataFrame({'text_feats':df_text_test['features'].tolist(),'img_feats':df_img_test['features'].tolist(),'ocr_feats':df_text_img_test['features'].tolist(),'label':t['label'].tolist()})"
   ]
  },
  {
   "cell_type": "code",
   "execution_count": 51,
   "metadata": {
    "executionInfo": {
     "elapsed": 20,
     "status": "ok",
     "timestamp": 1729970215491,
     "user": {
      "displayName": "Thế Anh",
      "userId": "13981405809191830392"
     },
     "user_tz": -420
    },
    "id": "3rqh-LtTo1w6"
   },
   "outputs": [],
   "source": [
    "label_map = {'text-sarcasm':0,'image-sarcasm': 1, 'multi-sarcasm':2, 'not-sarcasm':3}\n",
    "df_test['label']=df_test['label'].map(label_map)"
   ]
  },
  {
   "cell_type": "code",
   "execution_count": 52,
   "metadata": {},
   "outputs": [
    {
     "data": {
      "text/html": [
       "<div>\n",
       "<style scoped>\n",
       "    .dataframe tbody tr th:only-of-type {\n",
       "        vertical-align: middle;\n",
       "    }\n",
       "\n",
       "    .dataframe tbody tr th {\n",
       "        vertical-align: top;\n",
       "    }\n",
       "\n",
       "    .dataframe thead th {\n",
       "        text-align: right;\n",
       "    }\n",
       "</style>\n",
       "<table border=\"1\" class=\"dataframe\">\n",
       "  <thead>\n",
       "    <tr style=\"text-align: right;\">\n",
       "      <th></th>\n",
       "      <th>text_feats</th>\n",
       "      <th>img_feats</th>\n",
       "      <th>ocr_feats</th>\n",
       "      <th>label</th>\n",
       "    </tr>\n",
       "  </thead>\n",
       "  <tbody>\n",
       "    <tr>\n",
       "      <th>0</th>\n",
       "      <td>[-0.010315310209989548, 0.20558097958564758, -...</td>\n",
       "      <td>[-0.4676307439804077, 0.4149308502674103, 0.11...</td>\n",
       "      <td>[0.22576826810836792, 0.7014867067337036, -0.1...</td>\n",
       "      <td>NaN</td>\n",
       "    </tr>\n",
       "    <tr>\n",
       "      <th>1</th>\n",
       "      <td>[-0.010315310209989548, 0.20558097958564758, -...</td>\n",
       "      <td>[0.2279101014137268, -0.11422616243362427, 0.0...</td>\n",
       "      <td>[0.0378059446811676, 0.3451228141784668, -0.05...</td>\n",
       "      <td>NaN</td>\n",
       "    </tr>\n",
       "    <tr>\n",
       "      <th>2</th>\n",
       "      <td>[-0.010315310209989548, 0.20558097958564758, -...</td>\n",
       "      <td>[0.16580697894096375, 0.03786355257034302, 0.3...</td>\n",
       "      <td>[0.09640201181173325, 0.37234261631965637, -0....</td>\n",
       "      <td>NaN</td>\n",
       "    </tr>\n",
       "    <tr>\n",
       "      <th>3</th>\n",
       "      <td>[-0.010315310209989548, 0.20558097958564758, -...</td>\n",
       "      <td>[0.19905760884284973, 0.04752121865749359, 0.0...</td>\n",
       "      <td>[0.09665238857269287, 0.3772967755794525, -0.0...</td>\n",
       "      <td>NaN</td>\n",
       "    </tr>\n",
       "    <tr>\n",
       "      <th>4</th>\n",
       "      <td>[0.11253988742828369, 0.54109787940979, -0.297...</td>\n",
       "      <td>[-0.042777374386787415, 0.017328515648841858, ...</td>\n",
       "      <td>[-0.0087127685546875, 0.2464548647403717, -0.0...</td>\n",
       "      <td>NaN</td>\n",
       "    </tr>\n",
       "    <tr>\n",
       "      <th>...</th>\n",
       "      <td>...</td>\n",
       "      <td>...</td>\n",
       "      <td>...</td>\n",
       "      <td>...</td>\n",
       "    </tr>\n",
       "    <tr>\n",
       "      <th>1499</th>\n",
       "      <td>[0.04230928048491478, 0.15914270281791687, -0....</td>\n",
       "      <td>[0.07648631185293198, 0.6541545391082764, 0.13...</td>\n",
       "      <td>[-0.01727587729692459, 0.06590449064970016, -0...</td>\n",
       "      <td>NaN</td>\n",
       "    </tr>\n",
       "    <tr>\n",
       "      <th>1500</th>\n",
       "      <td>[0.09558481723070145, 0.16480980813503265, -0....</td>\n",
       "      <td>[-0.5109578967094421, 0.29594194889068604, 0.3...</td>\n",
       "      <td>[0.02531014196574688, 0.17944417893886566, -0....</td>\n",
       "      <td>NaN</td>\n",
       "    </tr>\n",
       "    <tr>\n",
       "      <th>1501</th>\n",
       "      <td>[-0.005629384890198708, 0.20771880447864532, -...</td>\n",
       "      <td>[-0.6135715246200562, 0.06028905510902405, 0.1...</td>\n",
       "      <td>[-0.06860345602035522, 0.13520707190036774, -0...</td>\n",
       "      <td>NaN</td>\n",
       "    </tr>\n",
       "    <tr>\n",
       "      <th>1502</th>\n",
       "      <td>[-0.11225829273462296, 0.3060818016529083, -0....</td>\n",
       "      <td>[0.19864866137504578, 0.6988522410392761, 0.23...</td>\n",
       "      <td>[0.008414838463068008, 0.19441823661327362, -0...</td>\n",
       "      <td>NaN</td>\n",
       "    </tr>\n",
       "    <tr>\n",
       "      <th>1503</th>\n",
       "      <td>[-0.012984623201191425, 0.19273461401462555, -...</td>\n",
       "      <td>[0.3115431070327759, 0.06852544099092484, 0.20...</td>\n",
       "      <td>[-0.026916975155472755, 0.10080321878194809, -...</td>\n",
       "      <td>NaN</td>\n",
       "    </tr>\n",
       "  </tbody>\n",
       "</table>\n",
       "<p>1504 rows × 4 columns</p>\n",
       "</div>"
      ],
      "text/plain": [
       "                                             text_feats  \\\n",
       "0     [-0.010315310209989548, 0.20558097958564758, -...   \n",
       "1     [-0.010315310209989548, 0.20558097958564758, -...   \n",
       "2     [-0.010315310209989548, 0.20558097958564758, -...   \n",
       "3     [-0.010315310209989548, 0.20558097958564758, -...   \n",
       "4     [0.11253988742828369, 0.54109787940979, -0.297...   \n",
       "...                                                 ...   \n",
       "1499  [0.04230928048491478, 0.15914270281791687, -0....   \n",
       "1500  [0.09558481723070145, 0.16480980813503265, -0....   \n",
       "1501  [-0.005629384890198708, 0.20771880447864532, -...   \n",
       "1502  [-0.11225829273462296, 0.3060818016529083, -0....   \n",
       "1503  [-0.012984623201191425, 0.19273461401462555, -...   \n",
       "\n",
       "                                              img_feats  \\\n",
       "0     [-0.4676307439804077, 0.4149308502674103, 0.11...   \n",
       "1     [0.2279101014137268, -0.11422616243362427, 0.0...   \n",
       "2     [0.16580697894096375, 0.03786355257034302, 0.3...   \n",
       "3     [0.19905760884284973, 0.04752121865749359, 0.0...   \n",
       "4     [-0.042777374386787415, 0.017328515648841858, ...   \n",
       "...                                                 ...   \n",
       "1499  [0.07648631185293198, 0.6541545391082764, 0.13...   \n",
       "1500  [-0.5109578967094421, 0.29594194889068604, 0.3...   \n",
       "1501  [-0.6135715246200562, 0.06028905510902405, 0.1...   \n",
       "1502  [0.19864866137504578, 0.6988522410392761, 0.23...   \n",
       "1503  [0.3115431070327759, 0.06852544099092484, 0.20...   \n",
       "\n",
       "                                              ocr_feats  label  \n",
       "0     [0.22576826810836792, 0.7014867067337036, -0.1...    NaN  \n",
       "1     [0.0378059446811676, 0.3451228141784668, -0.05...    NaN  \n",
       "2     [0.09640201181173325, 0.37234261631965637, -0....    NaN  \n",
       "3     [0.09665238857269287, 0.3772967755794525, -0.0...    NaN  \n",
       "4     [-0.0087127685546875, 0.2464548647403717, -0.0...    NaN  \n",
       "...                                                 ...    ...  \n",
       "1499  [-0.01727587729692459, 0.06590449064970016, -0...    NaN  \n",
       "1500  [0.02531014196574688, 0.17944417893886566, -0....    NaN  \n",
       "1501  [-0.06860345602035522, 0.13520707190036774, -0...    NaN  \n",
       "1502  [0.008414838463068008, 0.19441823661327362, -0...    NaN  \n",
       "1503  [-0.026916975155472755, 0.10080321878194809, -...    NaN  \n",
       "\n",
       "[1504 rows x 4 columns]"
      ]
     },
     "execution_count": 52,
     "metadata": {},
     "output_type": "execute_result"
    }
   ],
   "source": [
    "df_test"
   ]
  },
  {
   "cell_type": "code",
   "execution_count": 65,
   "metadata": {
    "executionInfo": {
     "elapsed": 20,
     "status": "ok",
     "timestamp": 1729970215491,
     "user": {
      "displayName": "Thế Anh",
      "userId": "13981405809191830392"
     },
     "user_tz": -420
    },
    "id": "nR5HVMHwo1w6"
   },
   "outputs": [],
   "source": [
    "import torch\n",
    "import ast\n",
    "\n",
    "# Apply ast.literal_eval if your columns are stored as strings\n",
    "df_test['img_feats'] = df_test['img_feats'].apply(lambda x: ast.literal_eval(x) if isinstance(x, str) else x)\n",
    "df_test['text_feats'] = df_test['text_feats'].apply(lambda x: ast.literal_eval(x) if isinstance(x, str) else x)\n",
    "df_test['ocr_feats'] = df_test['ocr_feats'].apply(lambda x: ast.literal_eval(x) if isinstance(x, str) else x)\n",
    "\n",
    "# Convert to tensors\n",
    "text_feats = torch.tensor(df_test['text_feats'].values.tolist(), dtype=torch.float32)\n",
    "img_feats = torch.tensor(df_test['img_feats'].values.tolist(), dtype=torch.float32)\n",
    "ocr_feats = torch.tensor(df_test['ocr_feats'].values.tolist(), dtype=torch.float32)\n",
    "\n",
    "# Now you can create the TensorDataset and DataLoader\n",
    "\n"
   ]
  },
  {
   "cell_type": "code",
   "execution_count": 66,
   "metadata": {},
   "outputs": [],
   "source": [
    "from torch.utils.data import DataLoader, TensorDataset\n",
    "\n",
    "dataset = TensorDataset(text_feats, img_feats, ocr_feats)\n",
    "unlabeled_loader = DataLoader(dataset, batch_size=32, shuffle=False)  # Bạn có thể điều chỉnh batch_size"
   ]
  },
  {
   "cell_type": "code",
   "execution_count": 67,
   "metadata": {
    "colab": {
     "base_uri": "https://localhost:8080/"
    },
    "collapsed": true,
    "executionInfo": {
     "elapsed": 380,
     "status": "ok",
     "timestamp": 1729970926914,
     "user": {
      "displayName": "Thế Anh",
      "userId": "13981405809191830392"
     },
     "user_tz": -420
    },
    "id": "cYxJdp4o4QCn",
    "outputId": "166855f8-0e78-403f-f19f-087a440435d7"
   },
   "outputs": [
    {
     "name": "stderr",
     "output_type": "stream",
     "text": [
      "C:\\Users\\The Anh\\AppData\\Local\\Temp\\ipykernel_32604\\294811166.py:5: FutureWarning: You are using `torch.load` with `weights_only=False` (the current default value), which uses the default pickle module implicitly. It is possible to construct malicious pickle data which will execute arbitrary code during unpickling (See https://github.com/pytorch/pytorch/blob/main/SECURITY.md#untrusted-models for more details). In a future release, the default value for `weights_only` will be flipped to `True`. This limits the functions that could be executed during unpickling. Arbitrary objects will no longer be allowed to be loaded via this mode unless they are explicitly allowlisted by the user via `torch.serialization.add_safe_globals`. We recommend you start setting `weights_only=True` for any use case where you don't have full control of the loaded file. Please open an issue on GitHub for any issues related to this experimental feature.\n",
      "  model.load_state_dict(torch.load(model_path))\n"
     ]
    },
    {
     "data": {
      "text/plain": [
       "SarcasmDetector(\n",
       "  (text_encoder): Sequential(\n",
       "    (0): Linear(in_features=768, out_features=256, bias=True)\n",
       "    (1): GELU(approximate='none')\n",
       "    (2): Dropout(p=0.5, inplace=False)\n",
       "    (3): LayerNorm((256,), eps=1e-05, elementwise_affine=True)\n",
       "  )\n",
       "  (img_encoder): Sequential(\n",
       "    (0): Linear(in_features=768, out_features=256, bias=True)\n",
       "    (1): GELU(approximate='none')\n",
       "    (2): Dropout(p=0.5, inplace=False)\n",
       "    (3): LayerNorm((256,), eps=1e-05, elementwise_affine=True)\n",
       "  )\n",
       "  (ocr_encoder): Sequential(\n",
       "    (0): Linear(in_features=768, out_features=256, bias=True)\n",
       "    (1): GELU(approximate='none')\n",
       "    (2): Dropout(p=0.5, inplace=False)\n",
       "    (3): LayerNorm((256,), eps=1e-05, elementwise_affine=True)\n",
       "  )\n",
       "  (text_img_attention): MultiheadAttention(\n",
       "    (out_proj): NonDynamicallyQuantizableLinear(in_features=256, out_features=256, bias=True)\n",
       "  )\n",
       "  (text_ocr_attention): MultiheadAttention(\n",
       "    (out_proj): NonDynamicallyQuantizableLinear(in_features=256, out_features=256, bias=True)\n",
       "  )\n",
       "  (fusion): Sequential(\n",
       "    (0): Linear(in_features=768, out_features=256, bias=True)\n",
       "    (1): ReLU()\n",
       "    (2): Dropout(p=0.5, inplace=False)\n",
       "    (3): LayerNorm((256,), eps=1e-05, elementwise_affine=True)\n",
       "  )\n",
       "  (text_only_classifier): Linear(in_features=256, out_features=4, bias=True)\n",
       "  (img_only_classifier): Linear(in_features=512, out_features=4, bias=True)\n",
       "  (combined_classifier): Linear(in_features=256, out_features=4, bias=True)\n",
       ")"
      ]
     },
     "execution_count": 67,
     "metadata": {},
     "output_type": "execute_result"
    }
   ],
   "source": [
    "import os\n",
    "\n",
    "# Corrected code to join paths\n",
    "model_path = os.path.join(folder, 'model_1.pth')\n",
    "model.load_state_dict(torch.load(model_path))\n",
    "model.eval()  # Set the model to evaluation mode\n"
   ]
  },
  {
   "cell_type": "code",
   "execution_count": 81,
   "metadata": {
    "colab": {
     "base_uri": "https://localhost:8080/",
     "height": 455
    },
    "collapsed": true,
    "executionInfo": {
     "elapsed": 571,
     "status": "ok",
     "timestamp": 1729970933989,
     "user": {
      "displayName": "Thế Anh",
      "userId": "13981405809191830392"
     },
     "user_tz": -420
    },
    "id": "01Hgj9Mg4bnS",
    "outputId": "c67d02e2-20bb-4eff-a490-863e39308c54"
   },
   "outputs": [
    {
     "data": {
      "text/html": [
       "<div>\n",
       "<style scoped>\n",
       "    .dataframe tbody tr th:only-of-type {\n",
       "        vertical-align: middle;\n",
       "    }\n",
       "\n",
       "    .dataframe tbody tr th {\n",
       "        vertical-align: top;\n",
       "    }\n",
       "\n",
       "    .dataframe thead th {\n",
       "        text-align: right;\n",
       "    }\n",
       "</style>\n",
       "<table border=\"1\" class=\"dataframe\">\n",
       "  <thead>\n",
       "    <tr style=\"text-align: right;\">\n",
       "      <th></th>\n",
       "      <th>predicted_labels</th>\n",
       "    </tr>\n",
       "    <tr>\n",
       "      <th>index</th>\n",
       "      <th></th>\n",
       "    </tr>\n",
       "  </thead>\n",
       "  <tbody>\n",
       "    <tr>\n",
       "      <th>0</th>\n",
       "      <td>3</td>\n",
       "    </tr>\n",
       "    <tr>\n",
       "      <th>1</th>\n",
       "      <td>3</td>\n",
       "    </tr>\n",
       "    <tr>\n",
       "      <th>2</th>\n",
       "      <td>3</td>\n",
       "    </tr>\n",
       "    <tr>\n",
       "      <th>3</th>\n",
       "      <td>3</td>\n",
       "    </tr>\n",
       "    <tr>\n",
       "      <th>4</th>\n",
       "      <td>3</td>\n",
       "    </tr>\n",
       "    <tr>\n",
       "      <th>...</th>\n",
       "      <td>...</td>\n",
       "    </tr>\n",
       "    <tr>\n",
       "      <th>27</th>\n",
       "      <td>2</td>\n",
       "    </tr>\n",
       "    <tr>\n",
       "      <th>28</th>\n",
       "      <td>3</td>\n",
       "    </tr>\n",
       "    <tr>\n",
       "      <th>29</th>\n",
       "      <td>2</td>\n",
       "    </tr>\n",
       "    <tr>\n",
       "      <th>30</th>\n",
       "      <td>2</td>\n",
       "    </tr>\n",
       "    <tr>\n",
       "      <th>31</th>\n",
       "      <td>2</td>\n",
       "    </tr>\n",
       "  </tbody>\n",
       "</table>\n",
       "<p>1504 rows × 1 columns</p>\n",
       "</div>"
      ],
      "text/plain": [
       "       predicted_labels\n",
       "index                  \n",
       "0                     3\n",
       "1                     3\n",
       "2                     3\n",
       "3                     3\n",
       "4                     3\n",
       "...                 ...\n",
       "27                    2\n",
       "28                    3\n",
       "29                    2\n",
       "30                    2\n",
       "31                    2\n",
       "\n",
       "[1504 rows x 1 columns]"
      ]
     },
     "execution_count": 81,
     "metadata": {},
     "output_type": "execute_result"
    }
   ],
   "source": [
    "def predict_with_index(model):\n",
    "    model.eval()  # Đặt mô hình vào chế độ đánh giá\n",
    "    predictions = []\n",
    "    with torch.no_grad():  # Không theo dõi gradient\n",
    "        for batch in unlabeled_loader:\n",
    "            text_feats, img_feats, ocr_feats = batch\n",
    "\n",
    "            # Forward pass\n",
    "            outputs = model(text_feats, img_feats, ocr_feats)  # Lấy đầu ra từ mô hình\n",
    "\n",
    "            # Lấy nhãn dự đoán\n",
    "            preds = outputs.argmax(dim=1).cpu().numpy()  # Dự đoán nhãn với đầu ra có độ chính xác cao nhất\n",
    "\n",
    "            # Lưu kết hợp với chỉ số\n",
    "            for i in range(len(preds)):\n",
    "                predictions.append((i, preds[i]))  # Lưu index và nhãn\n",
    "    return predictions\n",
    "\n",
    "# Dự đoán trên tập dữ liệu chưa gán nhãn\n",
    "predictions_with_index = predict_with_index(model)\n",
    "\n",
    "# Chuyển đổi kết quả về DataFrame\n",
    "predictions_df = pd.DataFrame(predictions_with_index, columns=['index', 'predicted_labels'])\n",
    "\n",
    "# Gán lại chỉ số cho DataFrame\n",
    "predictions_df.set_index('index', inplace=True)\n",
    "\n",
    "predictions_df\n",
    "\n"
   ]
  },
  {
   "cell_type": "code",
   "execution_count": 82,
   "metadata": {
    "executionInfo": {
     "elapsed": 4,
     "status": "ok",
     "timestamp": 1729970934535,
     "user": {
      "displayName": "Thế Anh",
      "userId": "13981405809191830392"
     },
     "user_tz": -420
    },
    "id": "fH1Yi2ftLqTr"
   },
   "outputs": [],
   "source": [
    "predictions_df['id'] = predictions_df.index  # Thêm cột id chứa giá trị index\n"
   ]
  },
  {
   "cell_type": "code",
   "execution_count": 83,
   "metadata": {
    "executionInfo": {
     "elapsed": 3,
     "status": "ok",
     "timestamp": 1729970934535,
     "user": {
      "displayName": "Thế Anh",
      "userId": "13981405809191830392"
     },
     "user_tz": -420
    },
    "id": "iRC-mmcTL1l5"
   },
   "outputs": [],
   "source": [
    "label_map = {'text-sarcasm':0,'image-sarcasm': 1, 'multi-sarcasm':2, 'not-sarcasm':3}\n"
   ]
  },
  {
   "cell_type": "code",
   "execution_count": 84,
   "metadata": {
    "executionInfo": {
     "elapsed": 3,
     "status": "ok",
     "timestamp": 1729970934535,
     "user": {
      "displayName": "Thế Anh",
      "userId": "13981405809191830392"
     },
     "user_tz": -420
    },
    "id": "gY_pEueGL92c"
   },
   "outputs": [],
   "source": [
    "reverse_label_map = {v: k for k, v in label_map.items()}\n"
   ]
  },
  {
   "cell_type": "code",
   "execution_count": 85,
   "metadata": {
    "executionInfo": {
     "elapsed": 24,
     "status": "ok",
     "timestamp": 1729970935015,
     "user": {
      "displayName": "Thế Anh",
      "userId": "13981405809191830392"
     },
     "user_tz": -420
    },
    "id": "WB7NuFa9MI8t"
   },
   "outputs": [],
   "source": [
    "predictions_df['predicted_labels'] = predictions_df['predicted_labels'].map(reverse_label_map)"
   ]
  },
  {
   "cell_type": "code",
   "execution_count": 86,
   "metadata": {},
   "outputs": [
    {
     "data": {
      "text/html": [
       "<div>\n",
       "<style scoped>\n",
       "    .dataframe tbody tr th:only-of-type {\n",
       "        vertical-align: middle;\n",
       "    }\n",
       "\n",
       "    .dataframe tbody tr th {\n",
       "        vertical-align: top;\n",
       "    }\n",
       "\n",
       "    .dataframe thead th {\n",
       "        text-align: right;\n",
       "    }\n",
       "</style>\n",
       "<table border=\"1\" class=\"dataframe\">\n",
       "  <thead>\n",
       "    <tr style=\"text-align: right;\">\n",
       "      <th></th>\n",
       "      <th>id</th>\n",
       "    </tr>\n",
       "    <tr>\n",
       "      <th>predicted_labels</th>\n",
       "      <th></th>\n",
       "    </tr>\n",
       "  </thead>\n",
       "  <tbody>\n",
       "    <tr>\n",
       "      <th>image-sarcasm</th>\n",
       "      <td>74</td>\n",
       "    </tr>\n",
       "    <tr>\n",
       "      <th>multi-sarcasm</th>\n",
       "      <td>899</td>\n",
       "    </tr>\n",
       "    <tr>\n",
       "      <th>not-sarcasm</th>\n",
       "      <td>530</td>\n",
       "    </tr>\n",
       "    <tr>\n",
       "      <th>text-sarcasm</th>\n",
       "      <td>1</td>\n",
       "    </tr>\n",
       "  </tbody>\n",
       "</table>\n",
       "</div>"
      ],
      "text/plain": [
       "                   id\n",
       "predicted_labels     \n",
       "image-sarcasm      74\n",
       "multi-sarcasm     899\n",
       "not-sarcasm       530\n",
       "text-sarcasm        1"
      ]
     },
     "execution_count": 86,
     "metadata": {},
     "output_type": "execute_result"
    }
   ],
   "source": [
    "predictions_df.groupby('predicted_labels').count()"
   ]
  },
  {
   "cell_type": "code",
   "execution_count": 88,
   "metadata": {},
   "outputs": [],
   "source": [
    "predictions_df.to_csv('Las.csv')"
   ]
  },
  {
   "cell_type": "code",
   "execution_count": null,
   "metadata": {},
   "outputs": [],
   "source": []
  }
 ],
 "metadata": {
  "accelerator": "GPU",
  "colab": {
   "gpuType": "T4",
   "provenance": []
  },
  "kernelspec": {
   "display_name": "cuda_test",
   "language": "python",
   "name": "python3"
  },
  "language_info": {
   "codemirror_mode": {
    "name": "ipython",
    "version": 3
   },
   "file_extension": ".py",
   "mimetype": "text/x-python",
   "name": "python",
   "nbconvert_exporter": "python",
   "pygments_lexer": "ipython3",
   "version": "3.12.3"
  }
 },
 "nbformat": 4,
 "nbformat_minor": 0
}
