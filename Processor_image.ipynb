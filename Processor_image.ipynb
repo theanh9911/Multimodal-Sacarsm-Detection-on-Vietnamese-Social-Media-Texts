{
 "cells": [
  {
   "cell_type": "markdown",
   "metadata": {},
   "source": [
    "# Load dữ liệu"
   ]
  },
  {
   "cell_type": "code",
   "execution_count": 1,
   "metadata": {},
   "outputs": [],
   "source": [
    "import json\n",
    "import pandas as pd\n",
    "\n",
    "def load_json_to_dataframe(file_path):\n",
    "    with open(file_path, 'r', encoding='utf-8') as f:\n",
    "        data = json.load(f)\n",
    "    return pd.DataFrame(data).transpose()\n",
    "\n",
    "# File paths\n",
    "train_path = r\"C:\\Users\\The Anh\\OneDrive\\Máy tính\\Project\\Data\\vimmsd-train.json\"\n",
    "\n",
    "# Load data into DataFrames\n",
    "df_train = load_json_to_dataframe(train_path)"
   ]
  },
  {
   "cell_type": "code",
   "execution_count": 2,
   "metadata": {},
   "outputs": [],
   "source": [
    "test_path = r\"C:\\Users\\The Anh\\OneDrive\\Máy tính\\Project\\Data\\vimmsd-private-test.json\"\n",
    "df_test = load_json_to_dataframe(test_path)"
   ]
  },
  {
   "cell_type": "markdown",
   "metadata": {},
   "source": [
    "# Model trích xuất đặc trưng"
   ]
  },
  {
   "cell_type": "code",
   "execution_count": null,
   "metadata": {},
   "outputs": [],
   "source": [
    "from transformers import CLIPModel, CLIPProcessor\n",
    "\n",
    "model = CLIPModel.from_pretrained(\"openai/clip-vit-base-patch16\")\n",
    "processor = CLIPProcessor.from_pretrained(\"openai/clip-vit-base-patch16\")"
   ]
  },
  {
   "cell_type": "markdown",
   "metadata": {},
   "source": [
    "# Xử lý và lưu lại kết quả process"
   ]
  },
  {
   "cell_type": "code",
   "execution_count": null,
   "metadata": {},
   "outputs": [],
   "source": [
    "import os\n",
    "from PIL import Image\n",
    "import torch\n",
    "import numpy as np\n",
    "\n",
    "# Path to the folder containing images\n",
    "image_folder = r\"C:\\Users\\The Anh\\OneDrive\\Máy tính\\Project\\Data\\train-images\"  # Adjust as necessary\n",
    "# Loop through each image name in the DataFrame\n",
    "img_names = df_train['image'].tolist()  # Convert Series to list\n"
   ]
  },
  {
   "cell_type": "code",
   "execution_count": 7,
   "metadata": {},
   "outputs": [
    {
     "data": {
      "text/plain": [
       "'8ae451edcd8ebf697f8763ece249115813149c55733bf8306b971210d48b15d3.jpg'"
      ]
     },
     "execution_count": 7,
     "metadata": {},
     "output_type": "execute_result"
    }
   ],
   "source": [
    "df_train.iloc[0]['image']"
   ]
  },
  {
   "cell_type": "code",
   "execution_count": 8,
   "metadata": {},
   "outputs": [],
   "source": [
    "prompts = [\"sarcasm\", \"not-sarcasm\"]\n",
    "def feat_img(image_name):\n",
    "    im = Image.open(image_folder+'\\\\'+image_name)\n",
    "    inputs = processor(text=prompts, images=[im], padding=\"max_length\", return_tensors=\"pt\")\n",
    "    with torch.no_grad():\n",
    "        outputs = model(**inputs)\n",
    "        features = outputs.vision_model_output.last_hidden_state\n",
    "        cls_vector = features[:, 0, :]\n",
    "    return cls_vector"
   ]
  },
  {
   "cell_type": "code",
   "execution_count": 9,
   "metadata": {},
   "outputs": [
    {
     "data": {
      "text/plain": [
       "tensor([[-3.1736e-01,  2.1321e-01,  1.1440e-01,  2.9200e-01,  1.5575e-01,\n",
       "          2.2407e-01, -3.8894e-02, -1.8066e-01, -2.8536e-01, -4.1254e-01,\n",
       "          1.1642e-01, -1.4070e-01, -1.1909e-01, -5.7532e-01,  2.4463e-01,\n",
       "         -5.8314e-02,  1.5521e-03, -2.7475e-01,  2.0782e-01,  1.5041e-01,\n",
       "          1.8491e-01, -2.9213e-01,  4.6258e-02, -1.2479e-01, -3.0307e-01,\n",
       "         -1.6011e-01,  2.2363e-01,  1.6475e-01, -5.6947e-02,  1.5474e-01,\n",
       "         -2.4802e-01,  6.7802e-02, -2.4461e-01, -8.2598e-02, -4.9390e-01,\n",
       "          1.6595e-01, -1.9696e-01, -2.6213e-01,  4.8073e-01, -3.1566e-01,\n",
       "         -2.5003e-01,  2.0887e-01, -2.0201e-01,  4.1900e-01,  6.4778e-02,\n",
       "          7.9499e-02, -1.2320e-01,  2.8674e-01, -5.9374e-02, -1.7787e-01,\n",
       "         -7.0732e-02, -4.2548e-01,  2.0905e-01, -2.1717e-02,  1.7258e-01,\n",
       "          2.8301e-01, -2.5922e-01,  6.7249e-02,  6.3073e-02,  1.9473e-01,\n",
       "          7.6817e-02,  1.1730e-01, -1.1257e-01,  3.7268e-02, -3.5685e-01,\n",
       "         -4.7917e-01, -3.7328e-01, -1.3992e-01, -4.2365e-01,  3.1057e-01,\n",
       "         -1.2501e-01, -2.9133e-01,  1.6071e-01,  1.0505e-01,  1.6367e-01,\n",
       "          1.8406e-01,  4.2247e-01, -5.0703e-01, -4.7860e-01,  2.2757e-02,\n",
       "          9.3072e-01,  2.0380e-01, -8.7429e-02,  7.8557e-02,  1.4079e-02,\n",
       "         -2.1228e-01,  1.7802e-01, -3.2163e-01, -1.6171e-01, -1.2391e-01,\n",
       "         -2.6875e-01, -8.1988e-02,  1.4937e-01,  6.2580e-01, -4.7021e-01,\n",
       "          1.4197e-01,  1.5999e-02, -2.9501e-03,  3.9650e-01,  2.2190e-01,\n",
       "         -2.3244e-01, -6.9619e-02, -1.9723e-01,  1.6566e-01, -6.6071e-02,\n",
       "          3.2278e-02, -8.3589e-02, -3.5715e-02, -2.1637e-01, -2.9508e-01,\n",
       "         -3.7330e-01, -1.4613e-02, -3.3305e-01,  1.2906e-01, -1.2930e-01,\n",
       "         -2.3044e-01,  4.2856e-01,  8.6026e-02,  1.1649e-01, -2.7405e-01,\n",
       "         -3.2910e-01,  9.4975e-01, -3.5273e-02, -4.0898e-01,  4.4134e-01,\n",
       "         -4.0986e-02,  1.2147e-01,  1.9653e-01, -2.5263e-02,  3.5077e-01,\n",
       "         -1.9881e-01,  5.4459e-01, -3.0968e-01,  4.9876e-02, -7.4020e-02,\n",
       "          3.7143e-01, -1.7987e-01, -2.3630e-01,  2.4353e-02,  8.7650e-03,\n",
       "         -1.2731e-01, -8.6076e-02, -1.1157e-01, -2.3124e-01, -2.7457e-01,\n",
       "         -6.2953e-02,  8.2054e-02,  2.6713e-01,  1.2427e-01, -6.0542e-02,\n",
       "         -2.8434e-01, -5.3327e-02,  2.2552e-01, -2.9563e-02,  4.2347e-02,\n",
       "         -2.9223e-01,  2.1373e-02, -1.5858e-01, -1.3854e-01, -5.8230e-02,\n",
       "          2.0264e-01, -2.8605e-01, -1.8980e+00, -1.5139e-01,  8.3465e-02,\n",
       "         -4.0213e-01, -2.0093e-01,  1.7024e-01, -2.3249e-01, -4.5105e-02,\n",
       "          3.1417e-01, -5.7340e-02, -1.7574e-01, -1.1704e-01,  1.0604e-01,\n",
       "          1.7897e-01, -1.5231e+00,  2.3906e-01,  3.1061e-02, -4.9056e-01,\n",
       "         -1.9913e-01, -6.8017e-02,  4.7988e-01,  5.9192e-02,  3.6393e-02,\n",
       "          3.6594e-02, -2.1373e-01, -2.6258e-01, -2.7516e-01,  2.4223e-01,\n",
       "         -3.7139e-02, -1.1930e-01, -2.5350e-01, -6.2701e-02,  5.2035e-01,\n",
       "         -4.2198e-01, -3.8902e-01,  2.7720e-01,  1.6499e-01,  1.0498e-01,\n",
       "         -5.4186e-02,  1.2739e-01, -2.5407e-01,  1.8163e-01, -1.3260e-01,\n",
       "         -1.8000e-01,  5.5522e-01, -2.2808e-01, -4.2301e-02,  1.3663e-01,\n",
       "          1.5159e-01, -3.7072e-01, -2.6730e-02, -5.2846e-01, -3.7523e-01,\n",
       "          2.7201e-01,  1.4091e-01, -1.6526e-01, -1.3419e-01,  2.2028e-01,\n",
       "         -7.4499e-03,  4.0362e-01, -2.4203e-01, -5.9171e-01,  1.9885e-02,\n",
       "          4.5955e-02,  1.9585e-01,  4.2650e-02, -4.3284e-01,  2.5476e-01,\n",
       "         -5.3305e-02, -3.5975e-01,  4.2171e-01,  4.7917e-01, -3.1781e-01,\n",
       "          2.3360e-01, -1.7641e-02,  1.3225e-01,  4.5303e-02,  2.6161e-01,\n",
       "         -3.2213e-01,  7.2431e-03, -1.6805e-02, -4.1095e-02,  3.1807e-01,\n",
       "         -9.2008e-02, -2.4789e-01,  2.3081e-01, -7.0375e-02,  7.3061e-02,\n",
       "         -4.7405e-03,  3.4364e-01, -2.7196e-01,  1.6563e-02,  1.0853e-01,\n",
       "         -2.3063e-01, -1.6085e-01, -2.3031e-01, -3.5692e-01, -1.1543e-01,\n",
       "         -1.2968e-01, -1.3923e-01, -8.6423e-02,  7.3330e-02, -1.3583e-01,\n",
       "         -3.0071e-01, -1.9001e-01,  1.0818e-01, -4.6702e-02,  2.9469e-01,\n",
       "          2.9504e-01,  1.1827e-01,  3.9579e-01, -1.0289e-01, -1.6387e-01,\n",
       "         -7.4444e-02,  2.0472e-01,  6.2683e-01,  1.7941e-01, -3.6697e-01,\n",
       "          2.8948e-01,  1.0481e-02, -2.6293e-01, -1.4879e-01, -6.3727e-02,\n",
       "          5.0000e-02,  3.7052e-01,  2.5838e-01, -1.6454e-01, -5.3266e-01,\n",
       "         -2.3012e-01, -1.5651e-01,  1.5348e-01, -1.5839e-01, -2.6359e-01,\n",
       "         -2.2995e-01, -1.8413e-01, -1.9985e-01,  6.7267e-02,  3.2766e-01,\n",
       "          3.4211e-02,  1.3114e-01,  5.1259e-02,  3.3493e-02,  7.4069e-01,\n",
       "          1.5519e-01, -1.3461e-01,  8.0640e-01, -1.9197e-01,  1.8444e-01,\n",
       "          5.1627e-02, -1.2924e-01,  3.0997e-02, -2.4881e-01,  1.2745e-01,\n",
       "         -2.9734e-02,  1.8102e-01, -2.4768e-01, -2.0746e-02, -9.7735e-02,\n",
       "         -9.3559e-02, -2.3288e-02, -1.9922e-01, -6.1748e-02,  4.1455e-01,\n",
       "         -2.6412e-01, -3.0285e-01, -1.6917e-01,  1.4369e-01,  1.0335e-01,\n",
       "          3.1594e-01,  5.3030e-02,  8.6309e-02, -1.5085e-01,  1.7405e-01,\n",
       "          1.0709e-01, -2.4066e-01,  1.4953e-01,  2.1564e-01, -2.3031e-01,\n",
       "         -1.4120e-01, -1.4251e+00,  3.4731e-01, -2.6252e-02,  1.6979e-01,\n",
       "         -2.5631e-01, -2.9327e-01, -3.3865e-01,  6.5631e-02,  3.8668e-01,\n",
       "         -4.7742e-01, -3.3638e-02, -2.3179e-01,  2.1444e-01, -3.2430e-02,\n",
       "          1.9582e-01,  1.6102e-01, -2.7401e-01, -7.1496e-02, -9.3776e-02,\n",
       "          1.2368e-01, -1.3799e-01,  2.5584e-01,  2.3920e-01, -2.6875e-01,\n",
       "          1.4079e-01, -1.0883e-01,  1.5221e-01,  5.3629e-02, -2.1475e-01,\n",
       "         -9.4107e-02,  1.1535e-01, -3.3213e-02,  3.7557e-01,  1.7635e-01,\n",
       "          3.3832e-02, -6.7914e-02,  4.0639e-03, -2.5990e-02, -1.6387e-01,\n",
       "         -1.3559e-01,  1.9387e-01, -1.8701e-01,  4.3372e-03,  2.0491e-01,\n",
       "         -2.6306e-01,  1.6027e-01,  1.2060e-01,  4.6423e-02,  2.0036e-02,\n",
       "          2.8864e-01,  3.9954e-01,  5.4333e-02,  1.0173e-01,  1.9279e-01,\n",
       "         -3.2242e-01,  6.5046e-01,  2.1196e-01, -1.4777e-01, -2.3049e-01,\n",
       "         -1.2763e-01,  3.9377e-02,  5.4792e-02, -1.0363e-01,  1.5284e-01,\n",
       "         -1.3285e-02, -2.9326e-01,  7.2370e-02, -3.0311e-02,  7.6537e-02,\n",
       "         -1.3156e-01, -2.3076e-01,  1.6329e-01,  2.9796e-01,  3.2090e-01,\n",
       "         -7.0197e-02, -7.5783e-02, -2.4384e-01,  5.7832e-02, -2.0253e-01,\n",
       "         -1.0208e-01,  2.0537e-01, -3.7743e-01,  1.0856e-01, -2.4697e-01,\n",
       "          3.5031e-01, -7.1657e-02,  7.0312e-03,  4.1218e-02,  1.0309e-01,\n",
       "          1.0693e-01,  1.8077e-01,  2.1234e-02,  3.1859e-01,  2.6770e-01,\n",
       "         -1.0837e+00, -2.1772e-02, -3.4403e-01, -1.4627e-02,  2.7293e-01,\n",
       "          6.3396e-02,  2.0339e-01,  2.0462e-01, -1.9973e-01, -2.3487e-01,\n",
       "         -2.7623e-01,  5.8636e-01, -3.9914e-02, -6.3081e-01, -1.5981e-01,\n",
       "          5.8024e-02,  3.1421e-01,  8.2828e-03, -1.0016e-01,  2.8057e-01,\n",
       "         -1.4308e-02,  2.1065e-01, -8.3010e-02,  2.8041e-01, -2.7921e-02,\n",
       "         -6.9659e-02, -2.5029e-01, -3.2802e-02,  3.2159e-02,  2.6633e-01,\n",
       "          3.0261e-02,  1.0230e-01,  3.1658e-01, -4.2469e-01, -1.2687e-01,\n",
       "         -2.1147e-01,  1.5251e-01, -1.9628e-01, -4.3728e-03, -7.8281e-02,\n",
       "          7.9039e-02, -1.5620e-01, -1.7256e-01,  4.5146e-02, -1.3347e-01,\n",
       "          4.2919e-01,  1.8246e-01,  8.2949e-02,  1.1254e-01,  3.7251e-01,\n",
       "         -2.0413e-01, -1.2080e-01,  6.9424e-04, -6.4656e-02,  1.3317e-01,\n",
       "          1.1149e-01,  2.2621e-01, -2.6087e-02, -1.3656e-01,  2.6160e-01,\n",
       "         -7.7872e-02,  1.4093e-01, -1.3628e-01,  1.1043e-01, -3.5054e-01,\n",
       "          1.8714e-01, -5.4391e-01,  2.8411e-01,  2.5329e-01,  2.5639e-01,\n",
       "         -9.5243e-02, -1.3315e-02,  2.0027e-01, -1.9273e-02, -1.2542e-01,\n",
       "         -8.9781e-01, -2.7708e-01,  1.3229e-01, -1.4559e-01,  1.6743e-02,\n",
       "          2.8821e-01, -2.7240e-02, -3.4912e-02, -5.3315e-01, -3.2922e-01,\n",
       "          1.2766e-01,  2.3034e-01,  1.3534e-01, -2.3336e-01, -3.8408e-01,\n",
       "         -2.3934e-01, -4.6274e-01,  3.0857e-02,  6.3219e-03,  2.0015e-01,\n",
       "          1.9753e-02,  1.1065e-01,  1.5779e-01, -4.5731e-01, -1.9499e-01,\n",
       "         -2.5692e-01, -1.9143e-01, -1.8574e-01, -8.0105e-02,  1.9272e-01,\n",
       "         -2.0182e-01,  6.7483e-02, -1.7424e-01,  1.5271e-01,  1.5752e-01,\n",
       "          6.5796e-02, -1.7069e-01, -1.4725e-01,  2.7454e-01, -4.6803e-02,\n",
       "          2.9996e-01, -1.6078e-01,  2.2593e-02, -4.1442e-01, -2.3452e-01,\n",
       "         -5.5957e-02, -2.8319e-01,  1.4853e-01,  3.0973e-01,  3.8672e-01,\n",
       "         -8.7574e-02,  1.1317e-01, -4.7570e-01,  9.7683e-02, -2.4882e-01,\n",
       "          1.7576e-01,  2.6852e-01, -2.5346e-01, -1.7774e-01,  1.6696e-01,\n",
       "          4.6263e-01,  5.4108e-02, -3.1807e-02, -2.9778e-01, -1.4136e-01,\n",
       "         -2.4430e-01, -6.4650e-01,  2.2987e-01,  1.9565e-01,  3.8020e-01,\n",
       "         -2.1045e-02,  1.1163e-01, -8.4737e-02, -2.3763e-02,  3.9331e-01,\n",
       "         -7.2378e-02, -1.4560e-01, -4.5387e-01, -1.4908e-03, -3.6672e-01,\n",
       "          1.8526e-01, -1.4237e-01,  1.7783e-01,  4.1454e-01,  1.4825e-01,\n",
       "          4.0579e-01,  1.7303e-01,  3.2256e-01, -3.2201e-01,  6.2670e-02,\n",
       "          5.8914e-02, -3.7254e-01,  8.0181e-02, -6.4956e-02, -2.7258e-01,\n",
       "          2.0497e-01,  3.6851e-01,  6.7314e-02, -1.4682e-01, -1.8651e-01,\n",
       "          3.5255e-01, -2.0067e-01,  1.4111e-01,  1.9985e-01, -3.0495e-01,\n",
       "          3.2633e-01,  3.5103e-01,  4.6069e-01, -2.7056e-01,  3.4636e-01,\n",
       "         -1.7808e-01, -1.7902e-01,  1.9942e-01, -1.2879e-01,  1.1154e-01,\n",
       "         -1.8444e-01, -1.9841e-01, -3.7577e-02, -1.3952e-01,  1.4257e-01,\n",
       "          1.2197e-01, -2.5464e-02, -2.4558e-02, -1.0290e+00,  1.0473e-01,\n",
       "         -3.4442e-01, -4.5870e-02, -1.4628e-02, -2.2520e-01, -2.8350e-01,\n",
       "          2.4373e-02, -1.4269e-01, -2.2890e-01,  2.2528e-01, -1.6039e-01,\n",
       "          1.7039e-01,  8.8761e-02, -1.3252e-01, -1.9120e-01, -3.6150e-01,\n",
       "         -7.0203e-01,  4.0166e-02, -3.8419e-01, -2.4429e-01,  7.6757e-02,\n",
       "         -3.8315e-01,  2.9845e-01,  6.2115e-01,  1.5903e-01,  2.7409e-01,\n",
       "         -4.1108e-02,  2.0771e-01, -7.6065e-02, -3.9588e-02, -1.6344e-01,\n",
       "         -3.0249e-01,  4.3831e-03,  2.5884e-01, -5.9217e-01,  2.7379e-01,\n",
       "         -2.8015e-02, -2.3534e-01, -1.6792e-01, -4.6052e-01,  4.5222e-02,\n",
       "         -2.3895e-01, -4.5209e-01, -4.2035e-02, -1.9765e-01, -3.7832e-01,\n",
       "         -3.4107e-01, -3.4334e-02, -5.7746e-02, -1.8334e-01, -3.8056e-01,\n",
       "          8.0660e-02, -2.2184e-01, -1.2630e-01, -4.3497e-01, -2.8254e-01,\n",
       "         -2.7657e-01,  1.1267e-01, -1.9835e-01,  3.9802e-02, -2.0663e-01,\n",
       "          2.7062e-01, -5.8471e-01, -2.6664e-01,  4.5239e-01,  2.1904e-01,\n",
       "          1.6709e-01, -1.7876e-01,  9.6026e-02, -5.7510e-03, -5.3622e-01,\n",
       "          3.2708e-01, -3.5508e-01,  1.1364e-01, -3.1889e-01, -7.1717e-02,\n",
       "         -9.3610e-02, -2.6592e-01,  1.1160e-01,  1.4807e-01, -3.2303e-02,\n",
       "          1.7249e-02,  2.5500e-01, -5.1061e-01, -1.5886e-01,  1.4575e-01,\n",
       "          1.0922e-01,  7.7668e-02, -2.6225e-01,  3.8155e-01, -1.2501e-01,\n",
       "          1.2162e-01,  1.7524e-01,  1.0407e-01, -3.5013e-01, -6.9786e-02,\n",
       "          1.1450e-01, -7.5819e-02,  1.5107e-01, -1.9888e-01,  1.7475e-01,\n",
       "          3.8267e-01,  3.4518e-01, -2.7633e-01,  2.4983e-02, -1.4211e-01,\n",
       "          4.1343e-01,  1.5370e-01, -5.9050e-02,  2.5089e-01, -6.1156e-01,\n",
       "         -3.2247e-01, -8.1324e-02, -2.5299e-01,  1.0150e-01,  2.7915e-01,\n",
       "         -1.1086e-01,  2.2487e-01, -8.5003e-02,  3.3412e-01,  1.0623e-01,\n",
       "          1.4639e-01, -7.1968e-02, -1.7103e-01, -1.5006e-01, -1.2677e-02,\n",
       "         -2.0008e-01, -4.0918e-01,  3.6828e-02, -7.1365e-02,  3.5564e-01,\n",
       "         -1.6784e-01,  1.9684e-01, -2.4230e-01]])"
      ]
     },
     "execution_count": 9,
     "metadata": {},
     "output_type": "execute_result"
    }
   ],
   "source": [
    "feat_img(df_train.iloc[0]['image'])"
   ]
  },
  {
   "cell_type": "code",
   "execution_count": null,
   "metadata": {},
   "outputs": [],
   "source": [
    "import csv\n",
    "count=0\n",
    "\n",
    "output_file = f'img_prtest.csv'\n",
    "\n",
    "writer = csv.writer(open(output_file, 'w', newline='', encoding='utf-8'))\n",
    "writer.writerow(['image', 'features'])  # Header\n",
    "\n",
    "for name in img_names:  # Duyệt qua từng dòng của DataFrame\n",
    "                features = feat_img(name)  # Giả sử bạn muốn xử lý cột 'features'\n",
    "                tensor_list = features.flatten().tolist()\n",
    "                writer.writerow([name, tensor_list])  # Lưu kết quả vào file\n",
    "                print(count:=count+1)\n",
    "           \n",
    "        "
   ]
  },
  {
   "cell_type": "code",
   "execution_count": null,
   "metadata": {},
   "outputs": [],
   "source": [
    "for i in range(1):       \n",
    "        output_file = f'features_img_{i*2000}_{(i+1)*2000}.csv'\n",
    "\n",
    "        writer = csv.writer(open(output_file, 'w', newline='', encoding='utf-8'))\n",
    "        writer.writerow(['image', 'features'])  # Header\n",
    "\n",
    "        for name in img_names:  # Duyệt qua từng dòng của DataFrame\n",
    "                features = feat_img(name)  # Giả sử bạn muốn xử lý cột 'features'\n",
    "                tensor_list = features.flatten().tolist()\n",
    "                writer.writerow([name, tensor_list])  # Lưu kết quả vào file\n",
    "        print(i)"
   ]
  },
  {
   "cell_type": "code",
   "execution_count": 44,
   "metadata": {},
   "outputs": [
    {
     "data": {
      "image/png": "[encoded data removed]",
      "text/plain": [
       "<Figure size 1500x400 with 5 Axes>"
      ]
     },
     "metadata": {},
     "output_type": "display_data"
    }
   ],
   "source": [
    "import torch\n",
    "import matplotlib.pyplot as plt\n",
    "\n",
    "# predict\n",
    "with torch.no_grad():\n",
    "    outputs = model(**inputs)\n",
    "\n",
    "preds = outputs.logits_per_image.unsqueeze(1)\n",
    "\n",
    "# visualize prediction\n",
    "_, ax = plt.subplots(1, 5, figsize=(15, 4))\n",
    "[a.axis('off') for a in ax.flatten()]\n",
    "ax[0].imshow(m)  # Hình ảnh gốc\n",
    "\n",
    "# Hiển thị xác suất cao nhất cho mỗi lớp\n",
    "for i in range(2):\n",
    "    # Tính xác suất\n",
    "    probabilities = torch.sigmoid(preds[i]).detach().numpy().flatten()\n",
    "    \n",
    "    # Lấy xác suất cao nhất và chỉ số của nó\n",
    "    max_prob, max_index = torch.max(preds[i], dim=1)\n",
    "    max_prob = torch.sigmoid(max_prob).item()  # Chuyển đổi thành giá trị Python\n",
    "\n",
    "    # Hiển thị xác suất\n",
    "    ax[i + 1].text(0.5, 0.5, f\"Max Prob: {max_prob:.2f}\\nClass: {max_index.item()}\",\n",
    "                   fontsize=12, ha='center', va='center')\n",
    "\n",
    "plt.show()\n"
   ]
  },
  {
   "cell_type": "code",
   "execution_count": null,
   "metadata": {},
   "outputs": [],
   "source": [
    "import csv\n",
    "\n",
    "output_file = 'features_image.csv'\n",
    "i=-1\n",
    "with open(output_file, 'w', newline='', encoding='utf-8') as outfile:\n",
    "    writer = csv.writer(outfile)\n",
    "    writer.writerow(['image', 'pixel_values ',''])  # Header\n",
    "    for img_name in img_names[0]:\n",
    "        image_path = os.path.join(image_folder + '\\\\'+img_names[0])  # Create the path to the image\n",
    "        with Image.open(image_path) as image:  # Open the image\n",
    "            # Convert to RGB if not already in that mode\n",
    "            if image.mode != 'RGB':\n",
    "                image = image.convert('RGB')\n",
    "            # Process the image\n",
    "            inputs = processor(text=prompts, images=[image] * len(prompts), padding=\"max_length\", return_tensors=\"pt\")\n",
    "\n",
    "            # Extract features (embedding) from the image\n",
    "            with torch.no_grad():\n",
    "                outputs = model(**inputs)\n",
    "                \n",
    "                #features = outputs.labels \n",
    "                print(outputs)\n",
    "         "
   ]
  }
 ],
 "metadata": {
  "kernelspec": {
   "display_name": "cuda_test",
   "language": "python",
   "name": "python3"
  },
  "language_info": {
   "codemirror_mode": {
    "name": "ipython",
    "version": 3
   },
   "file_extension": ".py",
   "mimetype": "text/x-python",
   "name": "python",
   "nbconvert_exporter": "python",
   "pygments_lexer": "ipython3",
   "version": "3.12.3"
  }
 },
 "nbformat": 4,
 "nbformat_minor": 2
}
